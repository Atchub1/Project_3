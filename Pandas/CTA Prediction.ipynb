{
 "cells": [
  {
   "cell_type": "code",
   "execution_count": 1,
   "metadata": {},
   "outputs": [],
   "source": [
    "# import dependancies \n",
    "import pandas as pd\n",
    "import re\n",
    "import tweepy\n",
    "from sklearn.feature_extraction.text import CountVectorizer\n",
    "from sklearn.pipeline import Pipeline\n",
    "from sklearn.feature_extraction.text import CountVectorizer\n",
    "from sklearn.feature_extraction.text import TfidfTransformer\n",
    "from sklearn import svm\n",
    "from joblib import dump, load\n",
    "#load the best model which is the SVM model\n",
    "predictor = load('models/svm.joblib') "
   ]
  },
  {
   "cell_type": "code",
   "execution_count": 3,
   "metadata": {},
   "outputs": [
    {
     "data": {
      "text/html": [
       "<div>\n",
       "<style scoped>\n",
       "    .dataframe tbody tr th:only-of-type {\n",
       "        vertical-align: middle;\n",
       "    }\n",
       "\n",
       "    .dataframe tbody tr th {\n",
       "        vertical-align: top;\n",
       "    }\n",
       "\n",
       "    .dataframe thead th {\n",
       "        text-align: right;\n",
       "    }\n",
       "</style>\n",
       "<table border=\"1\" class=\"dataframe\">\n",
       "  <thead>\n",
       "    <tr style=\"text-align: right;\">\n",
       "      <th></th>\n",
       "      <th>tweet</th>\n",
       "      <th>user</th>\n",
       "      <th>location</th>\n",
       "      <th>date</th>\n",
       "    </tr>\n",
       "  </thead>\n",
       "  <tbody>\n",
       "    <tr>\n",
       "      <th>0</th>\n",
       "      <td>RT @gjsibio: Northbound Red Line L Train at th...</td>\n",
       "      <td>MOFFITW</td>\n",
       "      <td>uptown, chi-city â¶â¶â¶â¶</td>\n",
       "      <td>2019-10-22 23:59:06</td>\n",
       "    </tr>\n",
       "    <tr>\n",
       "      <th>1</th>\n",
       "      <td>RT @cta: [Minor Delays / Reroute] 70 Division ...</td>\n",
       "      <td>transit_tweets</td>\n",
       "      <td>NaN</td>\n",
       "      <td>2019-10-22 23:50:28</td>\n",
       "    </tr>\n",
       "    <tr>\n",
       "      <th>2</th>\n",
       "      <td>RT @cta: [Minor Delays / Reroute] 70 Division ...</td>\n",
       "      <td>huskeeman82</td>\n",
       "      <td>Chicago, IL</td>\n",
       "      <td>2019-10-22 23:46:38</td>\n",
       "    </tr>\n",
       "    <tr>\n",
       "      <th>3</th>\n",
       "      <td>Hey, @cta. Please turn on the heaters. Winter ...</td>\n",
       "      <td>rkhavard</td>\n",
       "      <td>Chicago, IL</td>\n",
       "      <td>2019-10-22 23:44:53</td>\n",
       "    </tr>\n",
       "    <tr>\n",
       "      <th>4</th>\n",
       "      <td>.@cta Kimball bound Brown line train experienc...</td>\n",
       "      <td>aspaulding777</td>\n",
       "      <td>Chicago, IL</td>\n",
       "      <td>2019-10-22 23:09:48</td>\n",
       "    </tr>\n",
       "  </tbody>\n",
       "</table>\n",
       "</div>"
      ],
      "text/plain": [
       "                                               tweet            user  \\\n",
       "0  RT @gjsibio: Northbound Red Line L Train at th...         MOFFITW   \n",
       "1  RT @cta: [Minor Delays / Reroute] 70 Division ...  transit_tweets   \n",
       "2  RT @cta: [Minor Delays / Reroute] 70 Division ...     huskeeman82   \n",
       "3  Hey, @cta. Please turn on the heaters. Winter ...        rkhavard   \n",
       "4  .@cta Kimball bound Brown line train experienc...   aspaulding777   \n",
       "\n",
       "                        location                 date  \n",
       "0  uptown, chi-city â¶â¶â¶â¶  2019-10-22 23:59:06  \n",
       "1                            NaN  2019-10-22 23:50:28  \n",
       "2                    Chicago, IL  2019-10-22 23:46:38  \n",
       "3                    Chicago, IL  2019-10-22 23:44:53  \n",
       "4                    Chicago, IL  2019-10-22 23:09:48  "
      ]
     },
     "execution_count": 3,
     "metadata": {},
     "output_type": "execute_result"
    }
   ],
   "source": [
    "# Load in the dataframe\n",
    "cta_df = pd.read_csv('../Resources/ctatweets.csv',  encoding = 'ISO-8859-1')\n",
    "cta_df.head()"
   ]
  },
  {
   "cell_type": "code",
   "execution_count": 5,
   "metadata": {},
   "outputs": [
    {
     "data": {
      "text/plain": [
       "array(['RT @gjsibio: Northbound Red Line L Train at the Old Wilson Avenue Station, Chicago, Illinois (2015-03-10 13-36-00a) @ClickASnap_ https://t.â\\x80¦',\n",
       "       'RT @cta: [Minor Delays / Reroute] 70 Division buses are temporarily rerouted via Division, Central, Chicago, Austin, and Division: due to pâ\\x80¦',\n",
       "       'RT @cta: [Minor Delays / Reroute] 70 Division buses are temporarily rerouted via Division, Central, Chicago, Austin, and Division: due to pâ\\x80¦',\n",
       "       ...,\n",
       "       '@cta is the best. The increased service makes it much easier to see my SO running the marathon at many points alongâ\\x80¦ https://t.co/UOfDbml3Ly',\n",
       "       '@jooonlove @GretchenEng @cta They pay by the decibel',\n",
       "       'RT @feentweets: @cta Lol the frequency of this precise issue is mildly hilarious at this point'],\n",
       "      dtype=object)"
      ]
     },
     "execution_count": 5,
     "metadata": {},
     "output_type": "execute_result"
    }
   ],
   "source": [
    "#get the tweets column\n",
    "tweets = cta_df.iloc[:, 0].values\n",
    "tweets"
   ]
  },
  {
   "cell_type": "code",
   "execution_count": 7,
   "metadata": {},
   "outputs": [],
   "source": [
    "# make sure all tweets are in lowercase and remove hashtags, mentions, and links.\n",
    "clean_data = []                 \n",
    "for tweet in tweets:\n",
    "        item = ' '.join(word.lower() for word in tweet.split() \\\n",
    "            if not word.startswith('#') and \\\n",
    "            not word.startswith('@') and \\\n",
    "            not word.startswith('http') and \\\n",
    "            not word.startswith('RT'))\n",
    "        \n",
    "        if item == \"\" or item == \"RT\":\n",
    "                continue\n",
    "        clean_data.append(item)"
   ]
  },
  {
   "cell_type": "code",
   "execution_count": 8,
   "metadata": {},
   "outputs": [
    {
     "data": {
      "text/plain": [
       "['northbound red line l train at the old wilson avenue station chicago illinois 20150310 133600a',\n",
       " 'minor delays reroute 70 division buses are temporarily rerouted via division central chicago austin and division due to p',\n",
       " 'minor delays reroute 70 division buses are temporarily rerouted via division central chicago austin and division due to p',\n",
       " 'hey please turn on the heaters winter is basically here thx',\n",
       " 'cta kimball bound brown line train experiencing frequent stopping and is delayed without explanation currently b',\n",
       " 'also i didnt realize expansion plans were so ambitious',\n",
       " 'ive had enough with peoples loud personal calls on',\n",
       " 'so redline trains are normally this behind this time of day',\n",
       " 'or maybe just maybe you guys could actually do something to police your own system since its basic',\n",
       " 'omg this rush hour brown line train driver is consistently rude and it blows my mind that shes lasted this long']"
      ]
     },
     "execution_count": 8,
     "metadata": {},
     "output_type": "execute_result"
    }
   ],
   "source": [
    "# https://www.earthdatascience.org/courses/earth-analytics-python/using-apis-natural-language-processing-twitter/calculate-tweet-word-frequencies-in-python/\n",
    "# used code from link above to remove all special characters \n",
    "def remove_url(txt):\n",
    "    return \" \".join(re.sub(\"([^0-9A-Za-z \\t])|(\\w+:\\/\\/\\S+)\", \"\", txt).split())\n",
    "\n",
    "cleaned_data_no_urls = [remove_url(tweet) for tweet in clean_data]\n",
    "cleaned_data_no_urls[:10]"
   ]
  },
  {
   "cell_type": "code",
   "execution_count": 11,
   "metadata": {},
   "outputs": [],
   "source": [
    "#predict sentiment\n",
    "predictions = predictor.predict(cleaned_data_no_urls)"
   ]
  },
  {
   "cell_type": "code",
   "execution_count": 18,
   "metadata": {},
   "outputs": [
    {
     "data": {
      "text/html": [
       "<div>\n",
       "<style scoped>\n",
       "    .dataframe tbody tr th:only-of-type {\n",
       "        vertical-align: middle;\n",
       "    }\n",
       "\n",
       "    .dataframe tbody tr th {\n",
       "        vertical-align: top;\n",
       "    }\n",
       "\n",
       "    .dataframe thead th {\n",
       "        text-align: right;\n",
       "    }\n",
       "</style>\n",
       "<table border=\"1\" class=\"dataframe\">\n",
       "  <thead>\n",
       "    <tr style=\"text-align: right;\">\n",
       "      <th></th>\n",
       "      <th>Tweets</th>\n",
       "      <th>Sentiment</th>\n",
       "    </tr>\n",
       "  </thead>\n",
       "  <tbody>\n",
       "    <tr>\n",
       "      <th>0</th>\n",
       "      <td>northbound red line l train at the old wilson ...</td>\n",
       "      <td>1</td>\n",
       "    </tr>\n",
       "    <tr>\n",
       "      <th>1</th>\n",
       "      <td>minor delays reroute 70 division buses are tem...</td>\n",
       "      <td>0</td>\n",
       "    </tr>\n",
       "    <tr>\n",
       "      <th>2</th>\n",
       "      <td>minor delays reroute 70 division buses are tem...</td>\n",
       "      <td>0</td>\n",
       "    </tr>\n",
       "    <tr>\n",
       "      <th>3</th>\n",
       "      <td>hey please turn on the heaters winter is basic...</td>\n",
       "      <td>0</td>\n",
       "    </tr>\n",
       "    <tr>\n",
       "      <th>4</th>\n",
       "      <td>cta kimball bound brown line train experiencin...</td>\n",
       "      <td>0</td>\n",
       "    </tr>\n",
       "  </tbody>\n",
       "</table>\n",
       "</div>"
      ],
      "text/plain": [
       "                                              Tweets  Sentiment\n",
       "0  northbound red line l train at the old wilson ...          1\n",
       "1  minor delays reroute 70 division buses are tem...          0\n",
       "2  minor delays reroute 70 division buses are tem...          0\n",
       "3  hey please turn on the heaters winter is basic...          0\n",
       "4  cta kimball bound brown line train experiencin...          0"
      ]
     },
     "execution_count": 18,
     "metadata": {},
     "output_type": "execute_result"
    }
   ],
   "source": [
    "#combine tweets with predictions\n",
    "results_tuple = list(zip(cleaned_data_no_urls, predictions))\n",
    "#turn into dataframe\n",
    "results_df =pd.DataFrame(results_tuple, columns = ['Tweets', 'Sentiment']) \n",
    "results_df.head()"
   ]
  },
  {
   "cell_type": "code",
   "execution_count": 19,
   "metadata": {},
   "outputs": [
    {
     "data": {
      "text/html": [
       "<div>\n",
       "<style scoped>\n",
       "    .dataframe tbody tr th:only-of-type {\n",
       "        vertical-align: middle;\n",
       "    }\n",
       "\n",
       "    .dataframe tbody tr th {\n",
       "        vertical-align: top;\n",
       "    }\n",
       "\n",
       "    .dataframe thead th {\n",
       "        text-align: right;\n",
       "    }\n",
       "</style>\n",
       "<table border=\"1\" class=\"dataframe\">\n",
       "  <thead>\n",
       "    <tr style=\"text-align: right;\">\n",
       "      <th></th>\n",
       "      <th>Tweets</th>\n",
       "      <th>Sentiment</th>\n",
       "    </tr>\n",
       "  </thead>\n",
       "  <tbody>\n",
       "    <tr>\n",
       "      <th>0</th>\n",
       "      <td>northbound red line l train at the old wilson ...</td>\n",
       "      <td>Neutral</td>\n",
       "    </tr>\n",
       "    <tr>\n",
       "      <th>1</th>\n",
       "      <td>minor delays reroute 70 division buses are tem...</td>\n",
       "      <td>Negative</td>\n",
       "    </tr>\n",
       "    <tr>\n",
       "      <th>2</th>\n",
       "      <td>minor delays reroute 70 division buses are tem...</td>\n",
       "      <td>Negative</td>\n",
       "    </tr>\n",
       "    <tr>\n",
       "      <th>3</th>\n",
       "      <td>hey please turn on the heaters winter is basic...</td>\n",
       "      <td>Negative</td>\n",
       "    </tr>\n",
       "    <tr>\n",
       "      <th>4</th>\n",
       "      <td>cta kimball bound brown line train experiencin...</td>\n",
       "      <td>Negative</td>\n",
       "    </tr>\n",
       "  </tbody>\n",
       "</table>\n",
       "</div>"
      ],
      "text/plain": [
       "                                              Tweets Sentiment\n",
       "0  northbound red line l train at the old wilson ...   Neutral\n",
       "1  minor delays reroute 70 division buses are tem...  Negative\n",
       "2  minor delays reroute 70 division buses are tem...  Negative\n",
       "3  hey please turn on the heaters winter is basic...  Negative\n",
       "4  cta kimball bound brown line train experiencin...  Negative"
      ]
     },
     "execution_count": 19,
     "metadata": {},
     "output_type": "execute_result"
    }
   ],
   "source": [
    "#replace numbers is labels\n",
    "labels = {1:'Neutral',2:'Positive',0:'Negative'}\n",
    "results_df[\"Sentiment\"] = results_df[\"Sentiment\"].replace(labels)\n",
    "results_df.head()"
   ]
  },
  {
   "cell_type": "code",
   "execution_count": 24,
   "metadata": {},
   "outputs": [
    {
     "data": {
      "text/html": [
       "<div>\n",
       "<style scoped>\n",
       "    .dataframe tbody tr th:only-of-type {\n",
       "        vertical-align: middle;\n",
       "    }\n",
       "\n",
       "    .dataframe tbody tr th {\n",
       "        vertical-align: top;\n",
       "    }\n",
       "\n",
       "    .dataframe thead th {\n",
       "        text-align: right;\n",
       "    }\n",
       "</style>\n",
       "<table border=\"1\" class=\"dataframe\">\n",
       "  <thead>\n",
       "    <tr style=\"text-align: right;\">\n",
       "      <th></th>\n",
       "      <th>Sentiment</th>\n",
       "      <th>Tweets</th>\n",
       "    </tr>\n",
       "  </thead>\n",
       "  <tbody>\n",
       "    <tr>\n",
       "      <th>0</th>\n",
       "      <td>Negative</td>\n",
       "      <td>1761</td>\n",
       "    </tr>\n",
       "    <tr>\n",
       "      <th>1</th>\n",
       "      <td>Neutral</td>\n",
       "      <td>339</td>\n",
       "    </tr>\n",
       "    <tr>\n",
       "      <th>2</th>\n",
       "      <td>Positive</td>\n",
       "      <td>98</td>\n",
       "    </tr>\n",
       "  </tbody>\n",
       "</table>\n",
       "</div>"
      ],
      "text/plain": [
       "  Sentiment  Tweets\n",
       "0  Negative    1761\n",
       "1   Neutral     339\n",
       "2  Positive      98"
      ]
     },
     "execution_count": 24,
     "metadata": {},
     "output_type": "execute_result"
    }
   ],
   "source": [
    "#get total count by sentiment\n",
    "total_types = results_df.groupby(\"Sentiment\").count()\n",
    "total_types\n",
    "#reindex\n",
    "total_types_reindex = total_types.reset_index()\n",
    "total_types_reindex"
   ]
  },
  {
   "cell_type": "code",
   "execution_count": 28,
   "metadata": {},
   "outputs": [
    {
     "data": {
      "image/png": "[encoded data removed]",
      "text/plain": [
       "<Figure size 432x288 with 1 Axes>"
      ]
     },
     "metadata": {
      "needs_background": "light"
     },
     "output_type": "display_data"
    }
   ],
   "source": [
    "import matplotlib.pyplot as plt\n",
    "%matplotlib inline\n",
    "#plot sentiment\n",
    "total_types_reindex.plot(kind='bar',x='Sentiment',y='Tweets')\n",
    "#save image\n",
    "plt.savefig('../Img/Total_Tweets.png')"
   ]
  },
  {
   "cell_type": "code",
   "execution_count": null,
   "metadata": {},
   "outputs": [],
   "source": []
  }
 ],
 "metadata": {
  "kernelspec": {
   "display_name": "Python 3",
   "language": "python",
   "name": "python3"
  },
  "language_info": {
   "codemirror_mode": {
    "name": "ipython",
    "version": 3
   },
   "file_extension": ".py",
   "mimetype": "text/x-python",
   "name": "python",
   "nbconvert_exporter": "python",
   "pygments_lexer": "ipython3",
   "version": "3.7.3"
  }
 },
 "nbformat": 4,
 "nbformat_minor": 2
}
