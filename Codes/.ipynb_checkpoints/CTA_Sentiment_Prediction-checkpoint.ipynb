{
 "cells": [
  {
   "cell_type": "code",
   "execution_count": 29,
   "metadata": {},
   "outputs": [],
   "source": [
    "%matplotlib notebook"
   ]
  },
  {
   "cell_type": "code",
   "execution_count": 16,
   "metadata": {},
   "outputs": [],
   "source": [
    "# import dependancies \n",
    "import pandas as pd\n",
    "import re\n",
    "import tweepy\n",
    "from sklearn.feature_extraction.text import CountVectorizer\n",
    "from sklearn.pipeline import Pipeline\n",
    "from sklearn.feature_extraction.text import CountVectorizer\n",
    "from sklearn.feature_extraction.text import TfidfTransformer\n",
    "from sklearn import svm\n",
    "from joblib import dump, load\n",
    "#load the best model which is the SVM model\n",
    "predictor = load('models/svm.joblib') "
   ]
  },
  {
   "cell_type": "code",
   "execution_count": 17,
   "metadata": {},
   "outputs": [
    {
     "data": {
      "text/html": [
       "<div>\n",
       "<style scoped>\n",
       "    .dataframe tbody tr th:only-of-type {\n",
       "        vertical-align: middle;\n",
       "    }\n",
       "\n",
       "    .dataframe tbody tr th {\n",
       "        vertical-align: top;\n",
       "    }\n",
       "\n",
       "    .dataframe thead th {\n",
       "        text-align: right;\n",
       "    }\n",
       "</style>\n",
       "<table border=\"1\" class=\"dataframe\">\n",
       "  <thead>\n",
       "    <tr style=\"text-align: right;\">\n",
       "      <th></th>\n",
       "      <th>tweet</th>\n",
       "      <th>user</th>\n",
       "      <th>location</th>\n",
       "      <th>date</th>\n",
       "    </tr>\n",
       "  </thead>\n",
       "  <tbody>\n",
       "    <tr>\n",
       "      <th>0</th>\n",
       "      <td>RT @gjsibio: Northbound Red Line L Train at the Old Wilson Avenue Station, Chicago, Illinois (2015-03-10 13-36-00a) @ClickASnap_ https://t.â¦</td>\n",
       "      <td>MOFFITW</td>\n",
       "      <td>uptown, chi-city â¶â¶â¶â¶</td>\n",
       "      <td>2019-10-22 23:59:06</td>\n",
       "    </tr>\n",
       "    <tr>\n",
       "      <th>1</th>\n",
       "      <td>RT @cta: [Minor Delays / Reroute] 70 Division buses are temporarily rerouted via Division, Central, Chicago, Austin, and Division: due to pâ¦</td>\n",
       "      <td>transit_tweets</td>\n",
       "      <td>NaN</td>\n",
       "      <td>2019-10-22 23:50:28</td>\n",
       "    </tr>\n",
       "    <tr>\n",
       "      <th>2</th>\n",
       "      <td>RT @cta: [Minor Delays / Reroute] 70 Division buses are temporarily rerouted via Division, Central, Chicago, Austin, and Division: due to pâ¦</td>\n",
       "      <td>huskeeman82</td>\n",
       "      <td>Chicago, IL</td>\n",
       "      <td>2019-10-22 23:46:38</td>\n",
       "    </tr>\n",
       "    <tr>\n",
       "      <th>3</th>\n",
       "      <td>Hey, @cta. Please turn on the heaters. Winter is basically here. Thx. #cta</td>\n",
       "      <td>rkhavard</td>\n",
       "      <td>Chicago, IL</td>\n",
       "      <td>2019-10-22 23:44:53</td>\n",
       "    </tr>\n",
       "    <tr>\n",
       "      <th>4</th>\n",
       "      <td>.@cta Kimball bound Brown line train experiencing frequent stopping and is delayed without explanation. Currently bâ¦ https://t.co/F0R91YjrB8</td>\n",
       "      <td>aspaulding777</td>\n",
       "      <td>Chicago, IL</td>\n",
       "      <td>2019-10-22 23:09:48</td>\n",
       "    </tr>\n",
       "  </tbody>\n",
       "</table>\n",
       "</div>"
      ],
      "text/plain": [
       "                                                                                                                                            tweet  \\\n",
       "0  RT @gjsibio: Northbound Red Line L Train at the Old Wilson Avenue Station, Chicago, Illinois (2015-03-10 13-36-00a) @ClickASnap_ https://t.â¦   \n",
       "1  RT @cta: [Minor Delays / Reroute] 70 Division buses are temporarily rerouted via Division, Central, Chicago, Austin, and Division: due to pâ¦   \n",
       "2  RT @cta: [Minor Delays / Reroute] 70 Division buses are temporarily rerouted via Division, Central, Chicago, Austin, and Division: due to pâ¦   \n",
       "3  Hey, @cta. Please turn on the heaters. Winter is basically here. Thx. #cta                                                                       \n",
       "4  .@cta Kimball bound Brown line train experiencing frequent stopping and is delayed without explanation. Currently bâ¦ https://t.co/F0R91YjrB8   \n",
       "\n",
       "             user                       location                 date  \n",
       "0  MOFFITW         uptown, chi-city â¶â¶â¶â¶  2019-10-22 23:59:06  \n",
       "1  transit_tweets  NaN                            2019-10-22 23:50:28  \n",
       "2  huskeeman82     Chicago, IL                    2019-10-22 23:46:38  \n",
       "3  rkhavard        Chicago, IL                    2019-10-22 23:44:53  \n",
       "4  aspaulding777   Chicago, IL                    2019-10-22 23:09:48  "
      ]
     },
     "execution_count": 17,
     "metadata": {},
     "output_type": "execute_result"
    }
   ],
   "source": [
    "# Load in the dataframe\n",
    "cta_df = pd.read_csv('../Resources/ctatweets.csv',  encoding = 'ISO-8859-1')\n",
    "cta_df.head()"
   ]
  },
  {
   "cell_type": "code",
   "execution_count": 18,
   "metadata": {},
   "outputs": [
    {
     "data": {
      "text/plain": [
       "array(['RT @gjsibio: Northbound Red Line L Train at the Old Wilson Avenue Station, Chicago, Illinois (2015-03-10 13-36-00a) @ClickASnap_ https://t.â\\x80¦',\n",
       "       'RT @cta: [Minor Delays / Reroute] 70 Division buses are temporarily rerouted via Division, Central, Chicago, Austin, and Division: due to pâ\\x80¦',\n",
       "       'RT @cta: [Minor Delays / Reroute] 70 Division buses are temporarily rerouted via Division, Central, Chicago, Austin, and Division: due to pâ\\x80¦',\n",
       "       ...,\n",
       "       '@cta is the best. The increased service makes it much easier to see my SO running the marathon at many points alongâ\\x80¦ https://t.co/UOfDbml3Ly',\n",
       "       '@jooonlove @GretchenEng @cta They pay by the decibel',\n",
       "       'RT @feentweets: @cta Lol the frequency of this precise issue is mildly hilarious at this point'],\n",
       "      dtype=object)"
      ]
     },
     "execution_count": 18,
     "metadata": {},
     "output_type": "execute_result"
    }
   ],
   "source": [
    "#get the tweets column\n",
    "tweets = cta_df.iloc[:, 0].values\n",
    "tweets"
   ]
  },
  {
   "cell_type": "code",
   "execution_count": 19,
   "metadata": {},
   "outputs": [],
   "source": [
    "# make sure all tweets are in lowercase and remove hashtags, mentions, and links.\n",
    "clean_data = []                 \n",
    "for tweet in tweets:\n",
    "        item = ' '.join(word.lower() for word in tweet.split() \\\n",
    "            if not word.startswith('#') and \\\n",
    "            not word.startswith('@') and \\\n",
    "            not word.startswith('http') and \\\n",
    "            not word.startswith('RT'))\n",
    "        \n",
    "        if item == \"\" or item == \"RT\":\n",
    "                continue\n",
    "        clean_data.append(item)"
   ]
  },
  {
   "cell_type": "code",
   "execution_count": 20,
   "metadata": {},
   "outputs": [
    {
     "data": {
      "text/plain": [
       "['northbound red line l train at the old wilson avenue station chicago illinois 20150310 133600a',\n",
       " 'minor delays reroute 70 division buses are temporarily rerouted via division central chicago austin and division due to p',\n",
       " 'minor delays reroute 70 division buses are temporarily rerouted via division central chicago austin and division due to p',\n",
       " 'hey please turn on the heaters winter is basically here thx',\n",
       " 'cta kimball bound brown line train experiencing frequent stopping and is delayed without explanation currently b',\n",
       " 'also i didnt realize expansion plans were so ambitious',\n",
       " 'ive had enough with peoples loud personal calls on',\n",
       " 'so redline trains are normally this behind this time of day',\n",
       " 'or maybe just maybe you guys could actually do something to police your own system since its basic',\n",
       " 'omg this rush hour brown line train driver is consistently rude and it blows my mind that shes lasted this long']"
      ]
     },
     "execution_count": 20,
     "metadata": {},
     "output_type": "execute_result"
    }
   ],
   "source": [
    "# https://www.earthdatascience.org/courses/earth-analytics-python/using-apis-natural-language-processing-twitter/calculate-tweet-word-frequencies-in-python/\n",
    "# used code from link above to remove all special characters \n",
    "def remove_url(txt):\n",
    "    return \" \".join(re.sub(\"([^0-9A-Za-z \\t])|(\\w+:\\/\\/\\S+)\", \"\", txt).split())\n",
    "\n",
    "cleaned_data_no_urls = [remove_url(tweet) for tweet in clean_data]\n",
    "cleaned_data_no_urls[:10]"
   ]
  },
  {
   "cell_type": "code",
   "execution_count": 21,
   "metadata": {},
   "outputs": [],
   "source": [
    "#predict sentiment\n",
    "predictions = predictor.predict(cleaned_data_no_urls)"
   ]
  },
  {
   "cell_type": "code",
   "execution_count": 22,
   "metadata": {},
   "outputs": [
    {
     "data": {
      "text/html": [
       "<div>\n",
       "<style scoped>\n",
       "    .dataframe tbody tr th:only-of-type {\n",
       "        vertical-align: middle;\n",
       "    }\n",
       "\n",
       "    .dataframe tbody tr th {\n",
       "        vertical-align: top;\n",
       "    }\n",
       "\n",
       "    .dataframe thead th {\n",
       "        text-align: right;\n",
       "    }\n",
       "</style>\n",
       "<table border=\"1\" class=\"dataframe\">\n",
       "  <thead>\n",
       "    <tr style=\"text-align: right;\">\n",
       "      <th></th>\n",
       "      <th>Tweets</th>\n",
       "      <th>Sentiment</th>\n",
       "    </tr>\n",
       "  </thead>\n",
       "  <tbody>\n",
       "    <tr>\n",
       "      <th>0</th>\n",
       "      <td>northbound red line l train at the old wilson avenue station chicago illinois 20150310 133600a</td>\n",
       "      <td>1</td>\n",
       "    </tr>\n",
       "    <tr>\n",
       "      <th>1</th>\n",
       "      <td>minor delays reroute 70 division buses are temporarily rerouted via division central chicago austin and division due to p</td>\n",
       "      <td>0</td>\n",
       "    </tr>\n",
       "    <tr>\n",
       "      <th>2</th>\n",
       "      <td>minor delays reroute 70 division buses are temporarily rerouted via division central chicago austin and division due to p</td>\n",
       "      <td>0</td>\n",
       "    </tr>\n",
       "    <tr>\n",
       "      <th>3</th>\n",
       "      <td>hey please turn on the heaters winter is basically here thx</td>\n",
       "      <td>0</td>\n",
       "    </tr>\n",
       "    <tr>\n",
       "      <th>4</th>\n",
       "      <td>cta kimball bound brown line train experiencing frequent stopping and is delayed without explanation currently b</td>\n",
       "      <td>0</td>\n",
       "    </tr>\n",
       "  </tbody>\n",
       "</table>\n",
       "</div>"
      ],
      "text/plain": [
       "                                                                                                                      Tweets  \\\n",
       "0  northbound red line l train at the old wilson avenue station chicago illinois 20150310 133600a                              \n",
       "1  minor delays reroute 70 division buses are temporarily rerouted via division central chicago austin and division due to p   \n",
       "2  minor delays reroute 70 division buses are temporarily rerouted via division central chicago austin and division due to p   \n",
       "3  hey please turn on the heaters winter is basically here thx                                                                 \n",
       "4  cta kimball bound brown line train experiencing frequent stopping and is delayed without explanation currently b            \n",
       "\n",
       "   Sentiment  \n",
       "0  1          \n",
       "1  0          \n",
       "2  0          \n",
       "3  0          \n",
       "4  0          "
      ]
     },
     "execution_count": 22,
     "metadata": {},
     "output_type": "execute_result"
    }
   ],
   "source": [
    "#combine tweets with predictions\n",
    "results_tuple = list(zip(cleaned_data_no_urls, predictions))\n",
    "#turn into dataframe\n",
    "results_df =pd.DataFrame(results_tuple, columns = ['Tweets', 'Sentiment']) \n",
    "results_df.head()"
   ]
  },
  {
   "cell_type": "code",
   "execution_count": 23,
   "metadata": {},
   "outputs": [
    {
     "data": {
      "text/html": [
       "<div>\n",
       "<style scoped>\n",
       "    .dataframe tbody tr th:only-of-type {\n",
       "        vertical-align: middle;\n",
       "    }\n",
       "\n",
       "    .dataframe tbody tr th {\n",
       "        vertical-align: top;\n",
       "    }\n",
       "\n",
       "    .dataframe thead th {\n",
       "        text-align: right;\n",
       "    }\n",
       "</style>\n",
       "<table border=\"1\" class=\"dataframe\">\n",
       "  <thead>\n",
       "    <tr style=\"text-align: right;\">\n",
       "      <th></th>\n",
       "      <th>Tweets</th>\n",
       "      <th>Sentiment</th>\n",
       "    </tr>\n",
       "  </thead>\n",
       "  <tbody>\n",
       "    <tr>\n",
       "      <th>0</th>\n",
       "      <td>northbound red line l train at the old wilson avenue station chicago illinois 20150310 133600a</td>\n",
       "      <td>Neutral</td>\n",
       "    </tr>\n",
       "    <tr>\n",
       "      <th>1</th>\n",
       "      <td>minor delays reroute 70 division buses are temporarily rerouted via division central chicago austin and division due to p</td>\n",
       "      <td>Negative</td>\n",
       "    </tr>\n",
       "    <tr>\n",
       "      <th>2</th>\n",
       "      <td>minor delays reroute 70 division buses are temporarily rerouted via division central chicago austin and division due to p</td>\n",
       "      <td>Negative</td>\n",
       "    </tr>\n",
       "    <tr>\n",
       "      <th>3</th>\n",
       "      <td>hey please turn on the heaters winter is basically here thx</td>\n",
       "      <td>Negative</td>\n",
       "    </tr>\n",
       "    <tr>\n",
       "      <th>4</th>\n",
       "      <td>cta kimball bound brown line train experiencing frequent stopping and is delayed without explanation currently b</td>\n",
       "      <td>Negative</td>\n",
       "    </tr>\n",
       "    <tr>\n",
       "      <th>5</th>\n",
       "      <td>also i didnt realize expansion plans were so ambitious</td>\n",
       "      <td>Negative</td>\n",
       "    </tr>\n",
       "    <tr>\n",
       "      <th>6</th>\n",
       "      <td>ive had enough with peoples loud personal calls on</td>\n",
       "      <td>Negative</td>\n",
       "    </tr>\n",
       "    <tr>\n",
       "      <th>7</th>\n",
       "      <td>so redline trains are normally this behind this time of day</td>\n",
       "      <td>Negative</td>\n",
       "    </tr>\n",
       "    <tr>\n",
       "      <th>8</th>\n",
       "      <td>or maybe just maybe you guys could actually do something to police your own system since its basic</td>\n",
       "      <td>Negative</td>\n",
       "    </tr>\n",
       "    <tr>\n",
       "      <th>9</th>\n",
       "      <td>omg this rush hour brown line train driver is consistently rude and it blows my mind that shes lasted this long</td>\n",
       "      <td>Negative</td>\n",
       "    </tr>\n",
       "    <tr>\n",
       "      <th>10</th>\n",
       "      <td>heading home at bus stop 1124 in chicago il</td>\n",
       "      <td>Negative</td>\n",
       "    </tr>\n",
       "    <tr>\n",
       "      <th>11</th>\n",
       "      <td>this train conductor went off telling everyone to be careful of the winds and be safe and to have a great even</td>\n",
       "      <td>Negative</td>\n",
       "    </tr>\n",
       "    <tr>\n",
       "      <th>12</th>\n",
       "      <td>where can i file a complaint about one of your busses just watched them get in the left turn lane then pull</td>\n",
       "      <td>Negative</td>\n",
       "    </tr>\n",
       "    <tr>\n",
       "      <th>13</th>\n",
       "      <td>omg why is the ac on</td>\n",
       "      <td>Negative</td>\n",
       "    </tr>\n",
       "    <tr>\n",
       "      <th>14</th>\n",
       "      <td>minor delays reroute northbound 9 ashland buses are temporarily rerouted via irving park clark grace southport and irving</td>\n",
       "      <td>Neutral</td>\n",
       "    </tr>\n",
       "    <tr>\n",
       "      <th>15</th>\n",
       "      <td>i love going down the blue line stairs and my knees snap crackle pop all the way down</td>\n",
       "      <td>Positive</td>\n",
       "    </tr>\n",
       "    <tr>\n",
       "      <th>16</th>\n",
       "      <td>minor delays reroute northbound 9 ashland buses are temporarily rerouted via irving park clark grace southport and irving</td>\n",
       "      <td>Neutral</td>\n",
       "    </tr>\n",
       "    <tr>\n",
       "      <th>17</th>\n",
       "      <td>four seats evening rush hour</td>\n",
       "      <td>Negative</td>\n",
       "    </tr>\n",
       "    <tr>\n",
       "      <th>18</th>\n",
       "      <td>thank you to the lady who told me i dropped my ventra card on a bus</td>\n",
       "      <td>Positive</td>\n",
       "    </tr>\n",
       "    <tr>\n",
       "      <th>19</th>\n",
       "      <td>man i will ill take another 45 minutes until the train comes</td>\n",
       "      <td>Negative</td>\n",
       "    </tr>\n",
       "  </tbody>\n",
       "</table>\n",
       "</div>"
      ],
      "text/plain": [
       "                                                                                                                       Tweets  \\\n",
       "0   northbound red line l train at the old wilson avenue station chicago illinois 20150310 133600a                              \n",
       "1   minor delays reroute 70 division buses are temporarily rerouted via division central chicago austin and division due to p   \n",
       "2   minor delays reroute 70 division buses are temporarily rerouted via division central chicago austin and division due to p   \n",
       "3   hey please turn on the heaters winter is basically here thx                                                                 \n",
       "4   cta kimball bound brown line train experiencing frequent stopping and is delayed without explanation currently b            \n",
       "5   also i didnt realize expansion plans were so ambitious                                                                      \n",
       "6   ive had enough with peoples loud personal calls on                                                                          \n",
       "7   so redline trains are normally this behind this time of day                                                                 \n",
       "8   or maybe just maybe you guys could actually do something to police your own system since its basic                          \n",
       "9   omg this rush hour brown line train driver is consistently rude and it blows my mind that shes lasted this long             \n",
       "10  heading home at bus stop 1124 in chicago il                                                                                 \n",
       "11  this train conductor went off telling everyone to be careful of the winds and be safe and to have a great even              \n",
       "12  where can i file a complaint about one of your busses just watched them get in the left turn lane then pull                 \n",
       "13  omg why is the ac on                                                                                                        \n",
       "14  minor delays reroute northbound 9 ashland buses are temporarily rerouted via irving park clark grace southport and irving   \n",
       "15  i love going down the blue line stairs and my knees snap crackle pop all the way down                                       \n",
       "16  minor delays reroute northbound 9 ashland buses are temporarily rerouted via irving park clark grace southport and irving   \n",
       "17  four seats evening rush hour                                                                                                \n",
       "18  thank you to the lady who told me i dropped my ventra card on a bus                                                         \n",
       "19  man i will ill take another 45 minutes until the train comes                                                                \n",
       "\n",
       "   Sentiment  \n",
       "0   Neutral   \n",
       "1   Negative  \n",
       "2   Negative  \n",
       "3   Negative  \n",
       "4   Negative  \n",
       "5   Negative  \n",
       "6   Negative  \n",
       "7   Negative  \n",
       "8   Negative  \n",
       "9   Negative  \n",
       "10  Negative  \n",
       "11  Negative  \n",
       "12  Negative  \n",
       "13  Negative  \n",
       "14  Neutral   \n",
       "15  Positive  \n",
       "16  Neutral   \n",
       "17  Negative  \n",
       "18  Positive  \n",
       "19  Negative  "
      ]
     },
     "execution_count": 23,
     "metadata": {},
     "output_type": "execute_result"
    }
   ],
   "source": [
    "#replace numbers is labels\n",
    "labels = {1:'Neutral',2:'Positive',0:'Negative'}\n",
    "results_df[\"Sentiment\"] = results_df[\"Sentiment\"].replace(labels)\n",
    "pd.set_option('display.max_colwidth', -1)\n",
    "results_df.head(20)"
   ]
  },
  {
   "cell_type": "code",
   "execution_count": 24,
   "metadata": {},
   "outputs": [
    {
     "data": {
      "text/html": [
       "<div>\n",
       "<style scoped>\n",
       "    .dataframe tbody tr th:only-of-type {\n",
       "        vertical-align: middle;\n",
       "    }\n",
       "\n",
       "    .dataframe tbody tr th {\n",
       "        vertical-align: top;\n",
       "    }\n",
       "\n",
       "    .dataframe thead th {\n",
       "        text-align: right;\n",
       "    }\n",
       "</style>\n",
       "<table border=\"1\" class=\"dataframe\">\n",
       "  <thead>\n",
       "    <tr style=\"text-align: right;\">\n",
       "      <th></th>\n",
       "      <th>Sentiment</th>\n",
       "      <th>Tweets</th>\n",
       "    </tr>\n",
       "  </thead>\n",
       "  <tbody>\n",
       "    <tr>\n",
       "      <th>0</th>\n",
       "      <td>Negative</td>\n",
       "      <td>1761</td>\n",
       "    </tr>\n",
       "    <tr>\n",
       "      <th>1</th>\n",
       "      <td>Neutral</td>\n",
       "      <td>339</td>\n",
       "    </tr>\n",
       "    <tr>\n",
       "      <th>2</th>\n",
       "      <td>Positive</td>\n",
       "      <td>98</td>\n",
       "    </tr>\n",
       "  </tbody>\n",
       "</table>\n",
       "</div>"
      ],
      "text/plain": [
       "  Sentiment  Tweets\n",
       "0  Negative  1761  \n",
       "1  Neutral   339   \n",
       "2  Positive  98    "
      ]
     },
     "execution_count": 24,
     "metadata": {},
     "output_type": "execute_result"
    }
   ],
   "source": [
    "#get total count by sentiment\n",
    "total_types = results_df.groupby(\"Sentiment\").count()\n",
    "total_types\n",
    "#reindex\n",
    "total_types_reindex = total_types.reset_index()\n",
    "total_types_reindex"
   ]
  },
  {
   "cell_type": "code",
   "execution_count": 30,
   "metadata": {},
   "outputs": [
    {
     "data": {
      "image/png": "[encoded data removed]",
      "text/plain": [
       "<Figure size 432x288 with 1 Axes>"
      ]
     },
     "metadata": {
      "needs_background": "light"
     },
     "output_type": "display_data"
    }
   ],
   "source": [
    "import matplotlib.pyplot as plt\n",
    "%matplotlib inline\n",
    "#plot sentiment\n",
    "total_types_reindex.plot(kind='bar',x='Sentiment',y='Tweets')\n",
    "#save image\n",
    "plt.tight_layout()\n",
    "plt.savefig('../Img/Total_Tweets.png')"
   ]
  },
  {
   "cell_type": "code",
   "execution_count": 55,
   "metadata": {},
   "outputs": [],
   "source": [
    "# Labels for the sections of our pie chart\n",
    "labels = [\"Positive\", \"Negative\", \"Neutral\"]\n",
    "\n",
    "# The values of each section of the pie chart\n",
    "sizes = [98, 1761, 339]\n",
    "\n",
    "# The colors of each section of the pie chart\n",
    "colors = [\"green\", \"red\", \"yellow\"]"
   ]
  },
  {
   "cell_type": "code",
   "execution_count": 56,
   "metadata": {},
   "outputs": [
    {
     "data": {
      "image/png": "[encoded data removed]",
      "text/plain": [
       "<Figure size 720x720 with 1 Axes>"
      ]
     },
     "metadata": {},
     "output_type": "display_data"
    }
   ],
   "source": [
    "# Creates the pie chart based upon the values above\n",
    "# Automatically finds the percentages of each part of the pie chart\n",
    "plt.pie(sizes, \n",
    "         autopct=\"%1.1f%%\", shadow=True, labels=labels, colors=colors, startangle=90, textprops={'fontsize': 16})\n",
    "fig = plt.gcf()\n",
    "fig.set_size_inches(10,10) "
   ]
  },
  {
   "cell_type": "code",
   "execution_count": null,
   "metadata": {},
   "outputs": [],
   "source": []
  }
 ],
 "metadata": {
  "kernelspec": {
   "display_name": "Python 3",
   "language": "python",
   "name": "python3"
  },
  "language_info": {
   "codemirror_mode": {
    "name": "ipython",
    "version": 3
   },
   "file_extension": ".py",
   "mimetype": "text/x-python",
   "name": "python",
   "nbconvert_exporter": "python",
   "pygments_lexer": "ipython3",
   "version": "3.7.3"
  }
 },
 "nbformat": 4,
 "nbformat_minor": 2
}
